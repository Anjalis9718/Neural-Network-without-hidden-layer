{
 "cells": [
  {
   "cell_type": "code",
   "execution_count": null,
   "metadata": {},
   "outputs": [],
   "source": [
    "#designing own neural network without library"
   ]
  },
  {
   "cell_type": "code",
   "execution_count": 17,
   "metadata": {},
   "outputs": [],
   "source": [
    "import numpy as np"
   ]
  },
  {
   "cell_type": "code",
   "execution_count": 18,
   "metadata": {},
   "outputs": [
    {
     "name": "stdout",
     "output_type": "stream",
     "text": [
      "[[0]\n",
      " [0]\n",
      " [0]\n",
      " [1]]\n"
     ]
    }
   ],
   "source": [
    "#And operation\n",
    "X=np.array([[0,0],[0,1],[1,0],[1,1]])\n",
    "Y=np.array([[0,0,0,1]]).T#different dimension of X and Y so taking transpose\n",
    "print(Y)"
   ]
  },
  {
   "cell_type": "code",
   "execution_count": 19,
   "metadata": {},
   "outputs": [],
   "source": [
    "def sig(z):\n",
    "    return 1/(1+np.exp(-z))"
   ]
  },
  {
   "cell_type": "code",
   "execution_count": 20,
   "metadata": {},
   "outputs": [],
   "source": [
    "#no hidden layer\n",
    "#multiplied with 2 and 1 is subtracted to get values between -1 and 1\n",
    "weights=2*np.random.random((2,1))-1 #two inputs to one ouput node\n",
    "bias=2*np.random.random(1)-1 #one bias to one output node\n",
    "lr=0.1"
   ]
  },
  {
   "cell_type": "code",
   "execution_count": 21,
   "metadata": {},
   "outputs": [
    {
     "data": {
      "text/plain": [
       "array([[0.32583238],\n",
       "       [0.29521389],\n",
       "       [0.43712727],\n",
       "       [0.40229115]])"
      ]
     },
     "execution_count": 21,
     "metadata": {},
     "output_type": "execute_result"
    }
   ],
   "source": [
    "#ranndom weights and bias generated and output calculated .. they are not optimized\n",
    "output0=X\n",
    "output=sig(np.dot(output0,weights)+bias)\n",
    "output"
   ]
  },
  {
   "cell_type": "code",
   "execution_count": null,
   "metadata": {},
   "outputs": [],
   "source": [
    "#for miltiple hidden layer\n",
    "#weights of hidden layer\n",
    "wh=2*np.random.random((2,2))-1 #two inputs to two hidden node in hidden layer\n",
    "bh=2*np.random.random((1,2))-1 #one bias to two hidden node in hidden layer\n",
    "#weights and bias of output layer\n",
    "wo=2*np.random.random((2,1))-1#two inputs to one ouput node\n",
    "bo=2*np.random.random((1,1))-1#one bias to one output node"
   ]
  },
  {
   "cell_type": "code",
   "execution_count": null,
   "metadata": {},
   "outputs": [],
   "source": [
    "output0=X\n",
    "outputh=sig(np.dot(output0,wh)+bh)\n",
    "output=sig(np.dot(outputh,wo)+bo)\n",
    "output\n"
   ]
  },
  {
   "cell_type": "code",
   "execution_count": 22,
   "metadata": {},
   "outputs": [],
   "source": [
    "#now we will backpropagate find error and optimize the weights and bias values\n",
    "#derivative of sig function will be used in error calculation\n",
    "def derivative_sig(z):\n",
    "    return sig(z)*(1-sig(z))"
   ]
  },
  {
   "cell_type": "code",
   "execution_count": 23,
   "metadata": {},
   "outputs": [
    {
     "name": "stdout",
     "output_type": "stream",
     "text": [
      "(4, 1)\n"
     ]
    },
    {
     "data": {
      "text/plain": [
       "(array([[5.48138198],\n",
       "        [5.48138196]]), array([-8.31475638]), array([[2.44816592e-04],\n",
       "        [5.55471046e-02],\n",
       "        [5.55471053e-02],\n",
       "        [9.33888081e-01]]))"
      ]
     },
     "execution_count": 23,
     "metadata": {},
     "output_type": "execute_result"
    }
   ],
   "source": [
    "#for no hidden layer\n",
    "\n",
    "for iter in range(10000):\n",
    "    output0=X;\n",
    "    output=sig(np.dot(output0,weights)+bias)\n",
    "    \n",
    "    first_term=output-Y\n",
    "    input_for_last_layer=np.dot(output0,weights)+bias\n",
    "    second_term=derivative_sig(input_for_last_layer)\n",
    "    first_two=first_term*second_term\n",
    "    changes=np.array([[0.0],[0.0]])\n",
    "    \n",
    "    for i in range(2):#for 2 features\n",
    "        for j in range(4):# for inputs\n",
    "            changes[i][0] +=first_two[j][0]*output0[j][i]\n",
    "    weights=weights-lr*changes\n",
    "    bias_change=0.0\n",
    "    for j in range(4):\n",
    "    \n",
    "        bias_change+=first_two[j][0] * 1\n",
    "    bias=bias-lr*bias_change\n",
    "\n",
    "output=sig(np.dot(X,weights)+bias)\n",
    "print(output.shape)\n",
    "\n",
    "weights,bias,output\n",
    "\n",
    "        "
   ]
  },
  {
   "cell_type": "code",
   "execution_count": 24,
   "metadata": {},
   "outputs": [
    {
     "data": {
      "text/plain": [
       "(array([[6.42088932],\n",
       "        [6.42088933]]), array([-9.71957477]), array([[6.00919385e-05],\n",
       "        [3.56163142e-02],\n",
       "        [3.56163138e-02],\n",
       "        [9.57799399e-01]]))"
      ]
     },
     "execution_count": 24,
     "metadata": {},
     "output_type": "execute_result"
    }
   ],
   "source": [
    "#optimize code using vector operation instead of for loop for changes and bias_change\n",
    "lr=0.1\n",
    "for iter in range(10000):\n",
    "    first_term=output-Y\n",
    "    input_for_last_layer=np.dot(output0,weights)+bias\n",
    "    second_term=derivative_sig(input_for_last_layer)\n",
    "    first_two=first_term*second_term\n",
    "    first_two.shape\n",
    "   \n",
    "    changes=np.dot(output0.T,first_two)\n",
    "    weights=weights-lr*changes\n",
    "    \n",
    "    bias_change=np.sum(first_two)\n",
    "    bias=bias-lr*bias_change\n",
    "output=sig(np.dot(X,weights)+bias)\n",
    "\n",
    "weights,bias,output"
   ]
  },
  {
   "cell_type": "code",
   "execution_count": null,
   "metadata": {},
   "outputs": [],
   "source": []
  }
 ],
 "metadata": {
  "kernelspec": {
   "display_name": "Python 3",
   "language": "python",
   "name": "python3"
  },
  "language_info": {
   "codemirror_mode": {
    "name": "ipython",
    "version": 3
   },
   "file_extension": ".py",
   "mimetype": "text/x-python",
   "name": "python",
   "nbconvert_exporter": "python",
   "pygments_lexer": "ipython3",
   "version": "3.6.8"
  }
 },
 "nbformat": 4,
 "nbformat_minor": 2
}
